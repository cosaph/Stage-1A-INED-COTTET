{
  "cells": [
    {
      "cell_type": "raw",
      "metadata": {},
      "source": [
        "---\n",
        "title: \"Comment utiliser GitHub\"\n",
        "toc-title: \"\"\n",
        "categories:\n",
        "  - PowerShell\n",
        "author: \"COTTET Coralie\"\n",
        "affiliations: ENSAI\n",
        "\n",
        "date: 06/06/2023\n",
        "\n",
        "css: \"sms.css\"\n",
        "---"
      ],
      "id": "25aecd0e"
    },
    {
      "cell_type": "markdown",
      "metadata": {},
      "source": [
        "PowerShell, ou Windows PowerShell, anciennement Microsoft Command Shell (MSH), est une suite logicielle développée par Microsoft qui intègre une interface en ligne de commande, un langage de script nommé PowerShell ainsi qu’un kit de développement. Il est inclus depuis Windows 7 et s’appuie sur le framework Microsoft.NET. \n",
        "\n",
        "Pour utiliser PowerShell, vous pouvez procéder de plusieurs manières. Par exemple, il est tout à fait possible de lancer PowerShell depuis l’invite de commande MS-DOS, comme je vous ai montré précédemment, en tapant powershell.\n",
        "\n",
        "q:block(title=\"Code PowerShell\", type=\"info\")\n",
        "q:code(render=\"false\")\n",
        "\n",
        "```{PowerShell}\n",
        "$val= Read-Host \"Rentrer une chaîne de caractère\"\n",
        "```"
      ],
      "id": "390bcd08"
    }
  ],
  "metadata": {
    "kernelspec": {
      "display_name": "Python 3",
      "language": "python",
      "name": "python3"
    }
  },
  "nbformat": 4,
  "nbformat_minor": 5
}