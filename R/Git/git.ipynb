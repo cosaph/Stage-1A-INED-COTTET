{
  "cells": [
    {
      "cell_type": "raw",
      "metadata": {},
      "source": [
        "---\n",
        "title: \"Comment utiliser GitHub\"\n",
        "toc-title: \"\"\n",
        "categories:\n",
        "  - Git\n",
        "author: \"COTTET Coralie\"\n",
        "affiliations: INED\n",
        "\n",
        "date: 06/06/2023\n",
        "\n",
        "css: \"sms.css\"\n",
        "---"
      ],
      "id": "98a805c0"
    },
    {
      "cell_type": "markdown",
      "metadata": {},
      "source": [
        "GitHub est une plateforme de développement collaboratif de logiciels qui facilite le partage, la gestion et la collaboration sur des projets de développement de logiciels.\n",
        "\n",
        "\n",
        "\n",
        "# 1. Créer un nouveau dépot\n",
        "\n",
        "__Repository ou Projet ?__\n",
        "\n",
        " un repository est l'endroit où est stocké le code source d'un projet, tandis qu'un projet est une fonctionnalité pour organiser les tâches, les problèmes et les notes liés à ce projet.\n",
        "\n",
        "Nous allons créer un repository qui permmettra de stocker toutes les fiches R déjà faites. Il faut donc cliquer sur le petit plus dans la barre de navigation et selectionner \"new repository\".\n",
        "\n",
        "<img src=\"debut.png\" alt=\"Texte alternatif de l'image\" title=\"Titre de l'image\" width=\"160\" height=\"180\" />\n",
        "\n",
        "# 2. Le repository\n",
        "\n",
        "Pour créer le nouveau repository il faudra choisir un nom (_repository name_)\n",
        "Une description, une visibilité (publique ou privé).\n",
        "\n",
        "Je fais le choix d'ajouter directement le fichier README.md à mon repository. Le fichier README.md est un fichier texte présent à la racine d'un dépôt GitHub qui décrit le projet et fournit des informations importantes aux utilisateurs et aux contributeurs du projet. Le fichier README est généralement écrit en format Markdown, qui permet de formater le texte avec des titres, des listes, des liens, des images, etc.\n",
        "\n",
        "<img src=\"repository.png\" alt=\"Texte alternatif de l'image\" title=\"Titre de l'image\" width=\"460\" height=\"480\" />\n",
        "\n",
        "\n",
        "Voici ce que vous obtiendrez par la suite\n",
        "\n",
        "<img src=\"interface.png\" alt=\"Texte alternatif de l'image\" title=\"Titre de l'image\" width=\"460\" height=\"230\" />\n",
        "\n",
        "\n",
        "# 3. Ajouter des fichiers.\n",
        "\n",
        "Il faut a présent se placer dans votre terminal (VScode ou autre) et  exectuer les commandes suivantes:\n"
      ],
      "id": "48183aca"
    },
    {
      "cell_type": "code",
      "metadata": {},
      "source": [
        "1+1=2\n"
      ],
      "id": "645b3a30",
      "execution_count": null,
      "outputs": []
    }
  ],
  "metadata": {
    "kernelspec": {
      "display_name": "Python 3",
      "language": "python",
      "name": "python3"
    }
  },
  "nbformat": 4,
  "nbformat_minor": 5
}